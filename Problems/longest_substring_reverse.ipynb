{
 "cells": [
  {
   "cell_type": "code",
   "execution_count": 8,
   "metadata": {},
   "outputs": [
    {
     "name": "stdout",
     "output_type": "stream",
     "text": [
      "[0, 0, 1, 1, 0]\n",
      "[0, 0, 1, 1, 0]\n",
      "[0, 1, 0, 0, 0]\n",
      "[1, 0, 0, 0, 0]\n",
      "Longest Reverse Substring: lleH\n"
     ]
    }
   ],
   "source": [
    "#Substring of a given array\n",
    "col_str = 'Hello'\n",
    "row_str = 'lleH'\n",
    "emt=[]\n",
    "dictonary = {}\n",
    "table = [[0 for c in range(len(col_str))] for r in range(len(row_str))]\n",
    "\n",
    "for i in range(len(row_str)):\n",
    "    for j in range(len(col_str)):\n",
    "        if row_str[i]==col_str[j]:\n",
    "            table[i][j]=1 \n",
    "            \n",
    "for i in table:\n",
    "    print(i)\n",
    "\n",
    "for i in range(len(row_str)):\n",
    "    for j in range(len(col_str)):\n",
    "        if i < len(row_str)-1 and j < len(col_str)-1:\n",
    "            if table[i][j]==1 and table[i+1][j-1]==1:\n",
    "                count=1\n",
    "                emt.append(row_str[i])\n",
    "                while i < len(row_str)-1 and  j < len(col_str)-1 and table[i+1][j-1]==1:\n",
    "                    emt.append(row_str[i+1])\n",
    "                    count = count+1\n",
    "                    i = i+1\n",
    "                    j = j-1\n",
    "                dictonary [''.join(emt)] = count\n",
    "\n",
    "new_val = max(dictonary, key= lambda x: dictonary[x])\n",
    "print(\"Longest Reverse Substring:\",new_val)\n",
    "\n"
   ]
  }
 ],
 "metadata": {
  "kernelspec": {
   "display_name": "Python 3",
   "language": "python",
   "name": "python3"
  },
  "language_info": {
   "codemirror_mode": {
    "name": "ipython",
    "version": 3
   },
   "file_extension": ".py",
   "mimetype": "text/x-python",
   "name": "python",
   "nbconvert_exporter": "python",
   "pygments_lexer": "ipython3",
   "version": "3.8.5"
  }
 },
 "nbformat": 4,
 "nbformat_minor": 4
}
