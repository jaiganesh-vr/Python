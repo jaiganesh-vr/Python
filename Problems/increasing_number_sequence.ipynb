{
 "cells": [
  {
   "cell_type": "code",
   "execution_count": 9,
   "metadata": {},
   "outputs": [
    {
     "name": "stdout",
     "output_type": "stream",
     "text": [
      "[1, 2, 1, 3, 2, 4, 4, 5]\n",
      "Length of lis is 5\n"
     ]
    }
   ],
   "source": [
    "def lis(arr):\n",
    "\n",
    "    n = len(arr)\n",
    "    lis = [1]*n\n",
    "    \n",
    "    for i in range(1, n):\n",
    "        for j in range(0, i):\n",
    "            if arr[i] > arr[j] and lis[i] < lis[j] + 1:\n",
    "                lis[i] = lis[j]+1\n",
    "\n",
    "    print(lis)\n",
    "    maximum = 0\n",
    "    for i in range(n):\n",
    "        maximum = max(maximum, lis[i])\n",
    " \n",
    "    return maximum \n",
    " \n",
    "arr = [10, 22, 9, 33, 21, 50, 41, 60]\n",
    "print (\"Length of lis is\", lis(arr))"
   ]
  }
 ],
 "metadata": {
  "kernelspec": {
   "display_name": "Python 3",
   "language": "python",
   "name": "python3"
  },
  "language_info": {
   "codemirror_mode": {
    "name": "ipython",
    "version": 3
   },
   "file_extension": ".py",
   "mimetype": "text/x-python",
   "name": "python",
   "nbconvert_exporter": "python",
   "pygments_lexer": "ipython3",
   "version": "3.8.5"
  }
 },
 "nbformat": 4,
 "nbformat_minor": 4
}
