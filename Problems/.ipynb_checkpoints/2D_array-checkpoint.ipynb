{
 "cells": [
  {
   "cell_type": "code",
   "execution_count": 2,
   "metadata": {},
   "outputs": [
    {
     "name": "stdout",
     "output_type": "stream",
     "text": [
      "[[0, 0, 0], [0, 0, 0]]\n",
      "0 0 - 0\n",
      "0 1 - 0\n",
      "0 2 - 0\n",
      "1 0 - 0\n",
      "1 1 - 0\n",
      "1 2 - 0\n"
     ]
    }
   ],
   "source": [
    "array = [[0 for c in range(3)] for r in range(2)]\n",
    "print(array)\n",
    "\n",
    "for i in range(len(array)):\n",
    "    for j in range(len(array[1])):\n",
    "        print(i,j,'-',array[i][j])"
   ]
  }
 ],
 "metadata": {
  "kernelspec": {
   "display_name": "Python 3",
   "language": "python",
   "name": "python3"
  },
  "language_info": {
   "codemirror_mode": {
    "name": "ipython",
    "version": 3
   },
   "file_extension": ".py",
   "mimetype": "text/x-python",
   "name": "python",
   "nbconvert_exporter": "python",
   "pygments_lexer": "ipython3",
   "version": "3.8.5"
  }
 },
 "nbformat": 4,
 "nbformat_minor": 4
}
