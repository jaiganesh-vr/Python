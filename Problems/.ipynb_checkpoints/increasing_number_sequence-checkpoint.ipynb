{
 "cells": [
  {
   "cell_type": "code",
   "execution_count": 91,
   "metadata": {},
   "outputs": [
    {
     "name": "stdout",
     "output_type": "stream",
     "text": [
      "[1, 2, 2, 2, 3, 4, 0]\n",
      "j 1\n",
      "j 2\n",
      "j 3\n",
      "j 4\n",
      "j 5\n",
      "j 6\n",
      "[1, 2, 1, 4]\n"
     ]
    }
   ],
   "source": [
    "number_array = [1,2,3,3,1,4,5]\n",
    "pointer_array = [0 for c in range(len(number_array))]\n",
    "\n",
    "\n",
    "for i in range(len(number_array)-1):\n",
    "    if number_array[i] < number_array[i+1]:\n",
    "        if i == 0:\n",
    "            pointer_array[i] = 1\n",
    "        else:\n",
    "            pointer_array[i] = pointer_array[i-1]+1\n",
    "    else:\n",
    "        pointer_array[i] = pointer_array[i-1]\n",
    "\n",
    "res = []\n",
    "print(pointer_array)\n",
    "\n",
    "for i in range(len(pointer_array)):\n",
    "    if i == 0:\n",
    "        if pointer_array[i] != 0:\n",
    "            res.append(number_array[i])\n",
    "    elif i == len(pointer_array):\n",
    "        print('j',i)\n",
    "        #if number_array[i]>number_array[i-1]:\n",
    "            #emt.append(number_array[i])\n",
    "    else:\n",
    "        if pointer_array[i]-pointer_array[i-1] == 1:\n",
    "            res.append(number_array[i])\n",
    "        print('j',i)\n",
    "print(res)"
   ]
  }
 ],
 "metadata": {
  "kernelspec": {
   "display_name": "Python 3",
   "language": "python",
   "name": "python3"
  },
  "language_info": {
   "codemirror_mode": {
    "name": "ipython",
    "version": 3
   },
   "file_extension": ".py",
   "mimetype": "text/x-python",
   "name": "python",
   "nbconvert_exporter": "python",
   "pygments_lexer": "ipython3",
   "version": "3.8.5"
  }
 },
 "nbformat": 4,
 "nbformat_minor": 4
}
