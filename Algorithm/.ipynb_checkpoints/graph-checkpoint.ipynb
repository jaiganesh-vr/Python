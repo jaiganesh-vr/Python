{
 "cells": [
  {
   "cell_type": "code",
   "execution_count": null,
   "id": "e1fb44c5",
   "metadata": {},
   "outputs": [],
   "source": [
    "# A class to represent a graph object\n",
    "class Graph:\n",
    "    # Constructor to construct a graph\n",
    "    def __init__(self, edges, n):\n",
    "\n",
    "        # A list of lists to represent an adjacency list\n",
    "        self.adjList = [None] * n\n",
    "\n",
    "        # allocate memory for the adjacency list\n",
    "        for i in range(n):\n",
    "            self.adjList[i] = []\n",
    "\n",
    "        # add edges to the directed graph\n",
    "        for (src, dest, weight) in edges:\n",
    "            # allocate node in adjacency list from src to dest\n",
    "            self.adjList[src].append((dest, weight))\n",
    "\n",
    "\n",
    "# Function to print adjacency list representation of a graph\n",
    "def printGraph(graph):\n",
    "    for src in range(len(graph.adjList)):\n",
    "        # print current vertex and all its neighboring vertices\n",
    "        for (dest, weight) in graph.adjList[src]:\n",
    "            print(f'({src} —> {dest}, {weight}) ', end='')\n",
    "        print()\n",
    "\n",
    "\n",
    "if __name__ == '__main__':\n",
    "    # Input: Edges in a weighted digraph (as per the above diagram)\n",
    "    # Edge (x, y, w) represents an edge from `x` to `y` having weight `w`\n",
    "    edges = [(0, 1, 6), (1, 2, 7), (2, 0, 5), (2, 1, 4), (3, 2, 10),\n",
    "             (4, 5, 1), (5, 4, 3)]\n",
    "\n",
    "    # No. of vertices (labelled from 0 to 5)\n",
    "    n = 6\n",
    "\n",
    "    # construct a graph from a given list of edges\n",
    "    graph = Graph(edges, n)\n",
    "\n",
    "    # print adjacency list representation of the graph\n",
    "    printGraph(graph)"
   ]
  }
 ],
 "metadata": {
  "kernelspec": {
   "display_name": "Python 3 (ipykernel)",
   "language": "python",
   "name": "python3"
  },
  "language_info": {
   "codemirror_mode": {
    "name": "ipython",
    "version": 3
   },
   "file_extension": ".py",
   "mimetype": "text/x-python",
   "name": "python",
   "nbconvert_exporter": "python",
   "pygments_lexer": "ipython3",
   "version": "3.9.7"
  }
 },
 "nbformat": 4,
 "nbformat_minor": 5
}
