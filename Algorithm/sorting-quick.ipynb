{
 "cells": [
  {
   "cell_type": "code",
   "execution_count": null,
   "id": "61dca46d",
   "metadata": {},
   "outputs": [],
   "source": [
    "\n",
    "def partition(array, low, high):\n",
    "    # Choose the rightmost element as pivot\n",
    "    pivot = array[high]\n",
    "\n",
    "    # Pointer for greater element\n",
    "    i = low - 1\n",
    "\n",
    "    # Traverse through all elements\n",
    "    # compare each element with pivot\n",
    "    for j in range(low, high):\n",
    "        if array[j] <= pivot:\n",
    "         # If element smaller than pivot is found\n",
    "         # swap it with the greater element pointed by i\n",
    "         i = i + 1\n",
    "         # Swapping element at i with element at j\n",
    "         (array[i], array[j]) = (array[j], array[i])\n",
    "\n",
    "    # Swap the pivot element with the greater element specified by i\n",
    "    (array[i + 1], array[high]) = (array[high], array[i + 1])\n",
    "\n",
    "    # Return the position from where partition is done\n",
    "    return i + 1\n",
    "\n",
    "\n",
    "# Function to perform quicksort\n",
    "def quick_sort(array, low, high):\n",
    "    if low < high:\n",
    "        # Find pivot element such that\n",
    "        # element smaller than pivot are on the left\n",
    "        # element greater than pivot are on the right\n",
    "        pi = partition(array, low, high)\n",
    "\n",
    "        # Recursive call on the left of pivot\n",
    "        quick_sort(array, low, pi - 1)\n",
    "\n",
    "        # Recursive call on the right of pivot\n",
    "        quick_sort(array, pi + 1, high)\n",
    "\n",
    "\n",
    "# Driver code\n",
    "array = [10, 7, 8, 9, 1, 5]\n",
    "quick_sort(array, 0, len(array) - 1)\n",
    "\n",
    "print(f'Sorted array: {array}')\n",
    "\n",
    "# This code is contributed by Adnan Aliakbar\n",
    "\n"
   ]
  }
 ],
 "metadata": {
  "kernelspec": {
   "display_name": "MLWP",
   "language": "python",
   "name": "mlwp"
  },
  "language_info": {
   "codemirror_mode": {
    "name": "ipython",
    "version": 3
   },
   "file_extension": ".py",
   "mimetype": "text/x-python",
   "name": "python",
   "nbconvert_exporter": "python",
   "pygments_lexer": "ipython3",
   "version": "3.9.7"
  }
 },
 "nbformat": 4,
 "nbformat_minor": 5
}
