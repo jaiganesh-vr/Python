{
 "cells": [
  {
   "cell_type": "markdown",
   "metadata": {},
   "source": [
    "# Array Creation "
   ]
  },
  {
   "cell_type": "code",
   "execution_count": 38,
   "metadata": {},
   "outputs": [],
   "source": [
    "import numpy as np \n",
    "from numpy.random import default_rng"
   ]
  },
  {
   "cell_type": "code",
   "execution_count": 10,
   "metadata": {},
   "outputs": [
    {
     "name": "stdout",
     "output_type": "stream",
     "text": [
      "(3, 5)\n"
     ]
    }
   ],
   "source": [
    "array = np.array([[1,2,3,4,5],\n",
    "                  [1,0,0,0,0],\n",
    "                  [2,0,0,0,0]])\n",
    "print(array.shape)"
   ]
  },
  {
   "cell_type": "code",
   "execution_count": 27,
   "metadata": {},
   "outputs": [
    {
     "name": "stdout",
     "output_type": "stream",
     "text": [
      "[0 1 2 3 4 5 6 7 8 9]\n",
      "[0 1 2 3 4 5 6 7 8 9]\n",
      "[1.   1.75 2.5  3.25 4.  ]\n"
     ]
    }
   ],
   "source": [
    "# 1 Dimension Array\n",
    "print(np.arange(10))\n",
    "print(np.arange(0,10,1))\n",
    "print(np.linspace(1,4,5))"
   ]
  },
  {
   "cell_type": "code",
   "execution_count": 36,
   "metadata": {},
   "outputs": [
    {
     "name": "stdout",
     "output_type": "stream",
     "text": [
      "[[1. 0. 0.]\n",
      " [0. 1. 0.]\n",
      " [0. 0. 1.]]\n",
      "[[1 0 0 0 0]\n",
      " [0 2 0 0 0]\n",
      " [0 0 3 0 0]\n",
      " [0 0 0 4 0]\n",
      " [0 0 0 0 5]]\n",
      "[1 2 3 4 5]\n"
     ]
    }
   ],
   "source": [
    "# 2 Dimension Array\n",
    "print(np.eye(3))\n",
    "print(np.diag([1,2,3,4,5]))\n",
    "print(np.diag(np.diag([1,2,3,4,5])))"
   ]
  },
  {
   "cell_type": "code",
   "execution_count": 43,
   "metadata": {},
   "outputs": [
    {
     "name": "stdout",
     "output_type": "stream",
     "text": [
      "[[0. 0. 0.]\n",
      " [0. 0. 0.]\n",
      " [0. 0. 0.]]\n",
      "[[1. 1. 1.]\n",
      " [1. 1. 1.]\n",
      " [1. 1. 1.]]\n",
      "[[0.77395605 0.43887844 0.85859792]\n",
      " [0.69736803 0.09417735 0.97562235]\n",
      " [0.7611397  0.78606431 0.12811363]]\n",
      "[[[0 0 0]\n",
      "  [1 1 1]\n",
      "  [2 2 2]]\n",
      "\n",
      " [[0 1 2]\n",
      "  [0 1 2]\n",
      "  [0 1 2]]]\n"
     ]
    }
   ],
   "source": [
    "# 3 Dimension Array\n",
    "print(np.zeros((3,3)))\n",
    "print(np.ones((3,3)))\n",
    "print(default_rng(42).random((3,3)))\n",
    "print(np.indices((3,3)))"
   ]
  },
  {
   "cell_type": "code",
   "execution_count": 58,
   "metadata": {},
   "outputs": [
    {
     "name": "stdout",
     "output_type": "stream",
     "text": [
      "[2 3 3 4 5]\n",
      "[2 3]\n"
     ]
    }
   ],
   "source": [
    "a = np.array([1,2,3,4,5])\n",
    "b = a[:2]\n",
    "b += 1\n",
    "print(a)\n",
    "print(b)"
   ]
  },
  {
   "cell_type": "code",
   "execution_count": 83,
   "metadata": {},
   "outputs": [
    {
     "name": "stdout",
     "output_type": "stream",
     "text": [
      "[[1. 1.]\n",
      " [1. 1.]]\n",
      "[[1. 0.]\n",
      " [0. 1.]]\n",
      "[[[1. 1.]\n",
      "  [1. 1.]]\n",
      "\n",
      " [[1. 0.]\n",
      "  [0. 1.]]]\n",
      "[[1. 1.]\n",
      " [1. 1.]\n",
      " [1. 0.]\n",
      " [0. 1.]]\n",
      "[[1. 1. 1. 0.]\n",
      " [1. 1. 0. 1.]]\n",
      "[[1. 1. 1. 0.]\n",
      " [1. 1. 0. 1.]]\n"
     ]
    }
   ],
   "source": [
    "print(np.ones((2,2)))\n",
    "print(np.eye(2,2))\n",
    "A = np.ones((2,2))\n",
    "B = np.eye(2,2)\n",
    "print(np.stack([A,B]))\n",
    "print(np.vstack([A,B]))\n",
    "print(np.hstack([A,B]))\n",
    "print(np.block([A,B]))"
   ]
  },
  {
   "cell_type": "markdown",
   "metadata": {},
   "source": [
    "# Array Indexing"
   ]
  },
  {
   "cell_type": "code",
   "execution_count": 97,
   "metadata": {},
   "outputs": [
    {
     "name": "stdout",
     "output_type": "stream",
     "text": [
      "[0 1 2 3 4 5 6 7 8 9]\n",
      "[[0 1 2 3 4]\n",
      " [5 6 7 8 9]]\n",
      "[0 1 2 3 4]\n"
     ]
    }
   ],
   "source": [
    "x = np.arange(10)\n",
    "print(x)\n",
    "x.shape = (2,5)\n",
    "print(x)\n",
    "print(x[0])"
   ]
  },
  {
   "cell_type": "code",
   "execution_count": 111,
   "metadata": {},
   "outputs": [
    {
     "name": "stdout",
     "output_type": "stream",
     "text": [
      "(1, 3, 1)\n"
     ]
    }
   ],
   "source": [
    "x = np.array([[[1],[2],[3]], \n",
    "              [[4],[5],[6]]])\n",
    "y = np.array([[[1,2,3],[4,5,6]]])\n",
    "z = x[1:2]\n",
    "print(z.shape)"
   ]
  },
  {
   "cell_type": "code",
   "execution_count": 120,
   "metadata": {},
   "outputs": [
    {
     "name": "stdout",
     "output_type": "stream",
     "text": [
      "[[0 1 2 3 4]\n",
      " [5 6 7 8 9]]\n",
      "[1 6]\n"
     ]
    }
   ],
   "source": [
    "x = np.arange(10)\n",
    "x.shape = (2,5)\n",
    "print(x)\n",
    "print(x[...,1])"
   ]
  },
  {
   "cell_type": "code",
   "execution_count": 149,
   "metadata": {},
   "outputs": [
    {
     "name": "stdout",
     "output_type": "stream",
     "text": [
      "[[ 0  1  2  3]\n",
      " [ 4  5  6  7]\n",
      " [ 8  9 10 11]]\n",
      "(3, 4)\n",
      "[[[ 0  1  2  3]]\n",
      "\n",
      " [[ 4  5  6  7]]\n",
      "\n",
      " [[ 8  9 10 11]]]\n",
      "(3, 1, 4)\n"
     ]
    }
   ],
   "source": [
    "x = np.arange(12)\n",
    "x.shape = (3,4)\n",
    "print(x)\n",
    "print(x.shape)\n",
    "print(x[:,np.newaxis,:])\n",
    "print(x[:,np.newaxis,:].shape)"
   ]
  },
  {
   "cell_type": "code",
   "execution_count": 161,
   "metadata": {},
   "outputs": [
    {
     "name": "stdout",
     "output_type": "stream",
     "text": [
      "(5,)\n",
      "(5, 1)\n",
      "(1, 5)\n",
      "(5, 5)\n"
     ]
    }
   ],
   "source": [
    "x = np.arange(5)\n",
    "print(x.shape)\n",
    "print(x[:,np.newaxis].shape)\n",
    "print(x[np.newaxis,:].shape)\n",
    "print((x[:,np.newaxis]+ x[np.newaxis,:]).shape)"
   ]
  },
  {
   "cell_type": "code",
   "execution_count": 187,
   "metadata": {},
   "outputs": [
    {
     "name": "stdout",
     "output_type": "stream",
     "text": [
      "[[False False False  True  True]\n",
      " [ True  True  True  True  True]]\n"
     ]
    }
   ],
   "source": [
    "x = np.arange(10).reshape(2,5)\n",
    "y = x > 2\n",
    "print(y)"
   ]
  },
  {
   "cell_type": "code",
   "execution_count": 191,
   "metadata": {},
   "outputs": [
    {
     "name": "stdout",
     "output_type": "stream",
     "text": [
      "[[ 0  1  2  3  4  5  6]\n",
      " [ 7  8  9 10 11 12 13]\n",
      " [14 15 16 17 18 19 20]\n",
      " [21 22 23 24 25 26 27]\n",
      " [28 29 30 31 32 33 34]]\n"
     ]
    },
    {
     "data": {
      "text/plain": [
       "array([[ 1,  2],\n",
       "       [15, 16],\n",
       "       [29, 30]])"
      ]
     },
     "execution_count": 191,
     "metadata": {},
     "output_type": "execute_result"
    }
   ],
   "source": [
    "x = np.arange(35).reshape(5,7)\n",
    "print(x)\n",
    "x[np.array([0,2,4]), 1:3]"
   ]
  },
  {
   "cell_type": "code",
   "execution_count": 223,
   "metadata": {},
   "outputs": [
    {
     "name": "stdout",
     "output_type": "stream",
     "text": [
      "[ 0 10 20 30 40]\n",
      "[ 0 11 20 31 40]\n"
     ]
    }
   ],
   "source": [
    "x = np.arange(0,50,10)\n",
    "print(x)\n",
    "x[np.array([1,1,3,1])] += 1\n",
    "print(x)"
   ]
  }
 ],
 "metadata": {
  "kernelspec": {
   "display_name": "MLWP",
   "language": "python",
   "name": "mlwp"
  },
  "language_info": {
   "codemirror_mode": {
    "name": "ipython",
    "version": 3
   },
   "file_extension": ".py",
   "mimetype": "text/x-python",
   "name": "python",
   "nbconvert_exporter": "python",
   "pygments_lexer": "ipython3",
   "version": "3.9.7"
  }
 },
 "nbformat": 4,
 "nbformat_minor": 4
}
