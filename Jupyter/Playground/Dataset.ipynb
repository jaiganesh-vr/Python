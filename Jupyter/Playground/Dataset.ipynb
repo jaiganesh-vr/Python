{
 "cells": [
  {
   "cell_type": "code",
   "execution_count": 43,
   "metadata": {},
   "outputs": [
    {
     "name": "stdout",
     "output_type": "stream",
     "text": [
      "(426, 30)\n",
      "(426,)\n",
      "(143, 30)\n",
      "(143,)\n",
      "[ 2.34866411e-01 -2.46839171e-03 -3.25089250e-02 -1.64858367e-04\n",
      " -6.39577460e-02  5.03711313e+00 -1.13330230e-02 -6.17662144e+00\n",
      "  4.11318652e-01 -5.09448207e+00 -5.39408205e-01  2.09055279e-02\n",
      "  1.30951166e-02  1.51157528e-03 -2.04809335e+01  2.90771809e+00\n",
      "  3.72254332e+00 -1.71255590e+01  1.30233472e+00  2.15877319e+00\n",
      " -1.99200691e-01 -1.15347947e-02  1.03878665e-02  8.29164431e-04\n",
      "  6.13521807e-01 -7.61878573e-01 -8.52468315e-01  1.48626243e+00\n",
      " -1.05305973e+00 -1.72754163e+00]\n",
      "3.0018078066482614\n",
      "0.7751179832806714\n",
      "0.7324078874665105\n"
     ]
    }
   ],
   "source": [
    "from sklearn.linear_model import LinearRegression\n",
    "from sklearn.tree import DecisionTreeClassifier\n",
    "\n",
    "from sklearn.datasets import load_breast_cancer\n",
    "from sklearn.model_selection import train_test_split\n",
    "\n",
    "cancer_data = load_breast_cancer()\n",
    "\n",
    "X_train,X_test,y_train,y_test = train_test_split(cancer_data.data,cancer_data.target,random_state=42)\n",
    "\n",
    "print(X_train.shape)\n",
    "print(y_train.shape)\n",
    "print(X_test.shape)\n",
    "print(y_test.shape)\n",
    "\n",
    "lr = LinearRegression().fit(X_train,y_train)\n",
    "print(lr.coef_)\n",
    "print(lr.intercept_)\n",
    "\n",
    "print(lr.score(X_train,y_train))\n",
    "print(lr.score(X_test,y_test))"
   ]
  },
  {
   "cell_type": "code",
   "execution_count": null,
   "metadata": {},
   "outputs": [],
   "source": []
  }
 ],
 "metadata": {
  "kernelspec": {
   "display_name": "MLWP",
   "language": "python",
   "name": "mlwp"
  },
  "language_info": {
   "codemirror_mode": {
    "name": "ipython",
    "version": 3
   },
   "file_extension": ".py",
   "mimetype": "text/x-python",
   "name": "python",
   "nbconvert_exporter": "python",
   "pygments_lexer": "ipython3",
   "version": "3.9.7"
  }
 },
 "nbformat": 4,
 "nbformat_minor": 4
}
