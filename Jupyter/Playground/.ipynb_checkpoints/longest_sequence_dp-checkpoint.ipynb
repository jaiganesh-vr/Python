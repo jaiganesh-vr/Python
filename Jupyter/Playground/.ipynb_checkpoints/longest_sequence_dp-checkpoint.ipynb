{
 "cells": [
  {
   "cell_type": "code",
   "execution_count": 543,
   "metadata": {},
   "outputs": [
    {
     "name": "stdout",
     "output_type": "stream",
     "text": [
      "Maximum value: q\n"
     ]
    }
   ],
   "source": [
    "my_new_dict = {\"q\": 18, \"z\": 10, \"o\": 13}\n",
    "\n",
    "fin_max = max(my_new_dict, key=my_new_dict.get)\n",
    "print(\"Maximum value:\",fin_max)"
   ]
  },
  {
   "cell_type": "code",
   "execution_count": 461,
   "metadata": {},
   "outputs": [
    {
     "name": "stdout",
     "output_type": "stream",
     "text": [
      "8 = 11 - 3 => 0 , 1\n"
     ]
    }
   ],
   "source": [
    "number_array = [3,8,2,10,10]\n",
    "target = 11\n",
    "for i in range(len(number_array)):\n",
    "    for j in range(len(number_array)):\n",
    "        if i<j:\n",
    "            if number_array[j] == target- number_array[i]:\n",
    "                print(number_array[j],'=',target,'-',number_array[i],'=>',i,',',j)"
   ]
  },
  {
   "cell_type": "code",
   "execution_count": 532,
   "metadata": {},
   "outputs": [
    {
     "name": "stdout",
     "output_type": "stream",
     "text": [
      "[0, 0, 0, 1, 1, 2, 2, 2, 2, 2, 2, 0]\n",
      "0 0 10\n",
      "1 0 9\n",
      "2 0 8\n",
      "3 1 9\n",
      "4 1 10\n",
      "5 2 11\n",
      "6 2 12\n",
      "7 2 10\n",
      "8 2 10\n",
      "9 2 10\n",
      "10 2 9\n",
      "[9, 11]\n"
     ]
    }
   ],
   "source": [
    "number_array = [10,9,8,9,10,11,12,10,10,10,9,8]\n",
    "pointer_array = [0 for c in range(len(number_array))]\n",
    "for i in range(len(number_array)-1):\n",
    "    if number_array[i]<number_array[i+1]:\n",
    "        pointer_array[i+1] = pointer_array[i-1]+1\n",
    "    else:\n",
    "        pointer_array[i] = pointer_array[i-1]\n",
    "        \n",
    "print(pointer_array)   \n",
    "\n",
    "emt = []\n",
    "for i in range(len(pointer_array)-1):\n",
    "    print(i,pointer_array[i],number_array[i])\n",
    "    if pointer_array[i+1]-pointer_array[i] == 1:\n",
    "        emt.append(number_array[i+1])\n",
    "print(emt)   \n",
    "\n",
    "import operator\n",
    "stats = {'a': 1000, 'b': 3000, 'c': 100}\n",
    "max(stats.iteritems(), key=operator.itemgetter(1))[0]"
   ]
  }
 ],
 "metadata": {
  "kernelspec": {
   "display_name": "Python 3",
   "language": "python",
   "name": "python3"
  },
  "language_info": {
   "codemirror_mode": {
    "name": "ipython",
    "version": 3
   },
   "file_extension": ".py",
   "mimetype": "text/x-python",
   "name": "python",
   "nbconvert_exporter": "python",
   "pygments_lexer": "ipython3",
   "version": "3.8.5"
  }
 },
 "nbformat": 4,
 "nbformat_minor": 4
}
