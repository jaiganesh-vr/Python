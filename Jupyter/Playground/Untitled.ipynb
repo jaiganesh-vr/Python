{
 "cells": [
  {
   "cell_type": "code",
   "execution_count": 32,
   "metadata": {},
   "outputs": [
    {
     "name": "stdout",
     "output_type": "stream",
     "text": [
      "600851475143\n",
      "71\n",
      "8462696833\n",
      "839\n",
      "10086647\n",
      "1471\n",
      "6857\n",
      "6857\n"
     ]
    }
   ],
   "source": []
  },
  {
   "cell_type": "code",
   "execution_count": 34,
   "metadata": {},
   "outputs": [
    {
     "name": "stdout",
     "output_type": "stream",
     "text": [
      "6857\n"
     ]
    }
   ],
   "source": [
    "n = 10086647\n",
    "p = 1471\n",
    "\n",
    "n //=p\n",
    "\n",
    "print(n)"
   ]
  },
  {
   "cell_type": "code",
   "execution_count": 53,
   "metadata": {
    "scrolled": false
   },
   "outputs": [
    {
     "name": "stdout",
     "output_type": "stream",
     "text": [
      "[[0, 1, 6], [inf, 0, 3], [inf, inf, 0]] [[0, 0, 0], [-1, 0, 1], [-1, -1, 0]]\n",
      "[[0, 1, 6], [inf, 0, 3], [inf, inf, 0]] [[0, 0, 0], [-1, 0, 1], [-1, -1, 0]]\n",
      "[[0, 1, 6], [inf, 0, 3], [inf, inf, 0]] [[0, 0, 0], [-1, 0, 1], [-1, -1, 0]]\n",
      "[[0, 1, 6], [inf, 0, 3], [inf, inf, 0]] [[0, 0, 0], [-1, 0, 1], [-1, -1, 0]]\n",
      "[[0, 1, 6], [inf, 0, 3], [inf, inf, 0]] [[0, 0, 0], [-1, 0, 1], [-1, -1, 0]]\n",
      "[[0, 1, 6], [inf, 0, 3], [inf, inf, 0]] [[0, 0, 0], [-1, 0, 1], [-1, -1, 0]]\n",
      "[[0, 1, 6], [inf, 0, 3], [inf, inf, 0]] [[0, 0, 0], [-1, 0, 1], [-1, -1, 0]]\n",
      "[[0, 1, 6], [inf, 0, 3], [inf, inf, 0]] [[0, 0, 0], [-1, 0, 1], [-1, -1, 0]]\n",
      "[[0, 1, 6], [inf, 0, 3], [inf, inf, 0]] [[0, 0, 0], [-1, 0, 1], [-1, -1, 0]]\n",
      "[[0, 1, 6], [inf, 0, 3], [inf, inf, 0]] [[0, 0, 0], [-1, 0, 1], [-1, -1, 0]]\n",
      "[[0, 1, 6], [inf, 0, 3], [inf, inf, 0]] [[0, 0, 0], [-1, 0, 1], [-1, -1, 0]]\n",
      "[[0, 1, 4], [inf, 0, 3], [inf, inf, 0]] [[0, 0, 1], [-1, 0, 1], [-1, -1, 0]]\n",
      "[[0, 1, 4], [inf, 0, 3], [inf, inf, 0]] [[0, 0, 1], [-1, 0, 1], [-1, -1, 0]]\n",
      "[[0, 1, 4], [inf, 0, 3], [inf, inf, 0]] [[0, 0, 1], [-1, 0, 1], [-1, -1, 0]]\n",
      "[[0, 1, 4], [inf, 0, 3], [inf, inf, 0]] [[0, 0, 1], [-1, 0, 1], [-1, -1, 0]]\n",
      "[[0, 1, 4], [inf, 0, 3], [inf, inf, 0]] [[0, 0, 1], [-1, 0, 1], [-1, -1, 0]]\n",
      "[[0, 1, 4], [inf, 0, 3], [inf, inf, 0]] [[0, 0, 1], [-1, 0, 1], [-1, -1, 0]]\n",
      "[[0, 1, 4], [inf, 0, 3], [inf, inf, 0]] [[0, 0, 1], [-1, 0, 1], [-1, -1, 0]]\n",
      "[[0, 1, 4], [inf, 0, 3], [inf, inf, 0]] [[0, 0, 1], [-1, 0, 1], [-1, -1, 0]]\n",
      "[[0, 1, 4], [inf, 0, 3], [inf, inf, 0]] [[0, 0, 1], [-1, 0, 1], [-1, -1, 0]]\n",
      "[[0, 1, 4], [inf, 0, 3], [inf, inf, 0]] [[0, 0, 1], [-1, 0, 1], [-1, -1, 0]]\n",
      "[[0, 1, 4], [inf, 0, 3], [inf, inf, 0]] [[0, 0, 1], [-1, 0, 1], [-1, -1, 0]]\n",
      "[[0, 1, 4], [inf, 0, 3], [inf, inf, 0]] [[0, 0, 1], [-1, 0, 1], [-1, -1, 0]]\n",
      "[[0, 1, 4], [inf, 0, 3], [inf, inf, 0]] [[0, 0, 1], [-1, 0, 1], [-1, -1, 0]]\n",
      "[[0, 1, 4], [inf, 0, 3], [inf, inf, 0]] [[0, 0, 1], [-1, 0, 1], [-1, -1, 0]]\n",
      "[[0, 1, 4], [inf, 0, 3], [inf, inf, 0]] [[0, 0, 1], [-1, 0, 1], [-1, -1, 0]]\n",
      "[[0, 1, 4], [inf, 0, 3], [inf, inf, 0]] [[0, 0, 1], [-1, 0, 1], [-1, -1, 0]]\n",
      "The shortest path from 0 —> 1 is [0, 1]\n",
      "The shortest path from 0 —> 2 is [0, 1, 2]\n",
      "The shortest path from 1 —> 2 is [1, 2]\n",
      "1\n"
     ]
    }
   ],
   "source": [
    "# Recursive function to print the path of given vertex `u` from source vertex `v`\n",
    "def printPath(path, v, u, route):\n",
    "    if path[v][u] == v:\n",
    "        return\n",
    "    printPath(path, v, path[v][u], route)\n",
    "    route.append(path[v][u])\n",
    " \n",
    " \n",
    "# Function to print the shortest cost with path\n",
    "# information between all pairs of vertices\n",
    "def printSolution(path, n):\n",
    "    for v in range(n):\n",
    "        for u in range(n):\n",
    "            if u != v and path[v][u] != -1:\n",
    "                route = [v]\n",
    "                printPath(path, v, u, route)\n",
    "                route.append(u)\n",
    "                print(f'The shortest path from {v} —> {u} is', route)\n",
    " \n",
    " \n",
    "# Function to run the Floyd–Warshall algorithm\n",
    "def floydWarshall(adjMatrix):\n",
    " \n",
    "    # base case\n",
    "    if not adjMatrix:\n",
    "        return\n",
    " \n",
    "    # total number of vertices in the `adjMatrix`\n",
    "    n = len(adjMatrix)\n",
    "    # cost and path matrix stores shortest path\n",
    "    # (shortest cost/shortest route) information\n",
    "    # initially, cost would be the same as the weight of an edge\n",
    "    cost = adjMatrix.copy()\n",
    "    path = [[None for x in range(n)] for y in range(n)]\n",
    "    # initialize cost and path\n",
    "    for v in range(n):\n",
    "        for u in range(n):\n",
    "            if v == u:\n",
    "                path[v][u] = 0\n",
    "            elif cost[v][u] != float('inf'):\n",
    "                path[v][u] = v\n",
    "            else:\n",
    "                path[v][u] = -1\n",
    "    # run Floyd–Warshall\n",
    "    pointer=0\n",
    "    for k in range(n):\n",
    "        for v in range(n):\n",
    "            for u in range(n):\n",
    "                # If vertex `k` is on the shortest path from `v` to `u`,\n",
    "                # then update the value of cost[v][u] and path[v][u]\n",
    "                if cost[v][k] != float('inf') and cost[k][u] != float('inf') \\\n",
    "                        and (cost[v][k] + cost[k][u] < cost[v][u]):\n",
    "                    cost[v][u] = cost[v][k] + cost[k][u]\n",
    "                    path[v][u] = path[k][u]\n",
    "                    pointer=pointer+1\n",
    "                print(cost,path)    \n",
    "    # if diagonal elements become negative, the\n",
    "    # graph contains a negative-weight cycle\n",
    "    if cost[v][v] < 0:\n",
    "        print('Negative-weight cycle found')\n",
    "        return\n",
    " \n",
    "    # Print the shortest path between all pairs of vertices\n",
    "    printSolution(path, n)\n",
    "    print(pointer)\n",
    "    \n",
    "if __name__ == '__main__':\n",
    " \n",
    "    # define infinity\n",
    "    I = float('inf')\n",
    " \n",
    "    # given adjacency representation of the matrix\n",
    "    adjMatrix = [\n",
    "        [0,1,6],\n",
    "        [I,0,3],\n",
    "        [I,I,0]\n",
    "    ]\n",
    " \n",
    "    # Run Floyd–Warshall algorithm\n",
    "    floydWarshall(adjMatrix)"
   ]
  },
  {
   "cell_type": "code",
   "execution_count": 47,
   "metadata": {},
   "outputs": [
    {
     "name": "stdout",
     "output_type": "stream",
     "text": [
      "0 0 <---> 0 0\n",
      "0 0 <---> 0 1\n",
      "0 0 <---> 0 2\n",
      "/n\n",
      "1 0 <---> 0 0\n",
      "1 0 <---> 0 1\n",
      "1 0 <---> 0 2\n",
      "/n\n",
      "2 0 <---> 0 0\n",
      "2 0 <---> 0 1\n",
      "2 0 <---> 0 2\n",
      "/n\n",
      "0 1 <---> 1 0\n",
      "0 1 <---> 1 1\n",
      "0 1 <---> 1 2\n",
      "/n\n",
      "1 1 <---> 1 0\n",
      "1 1 <---> 1 1\n",
      "1 1 <---> 1 2\n",
      "/n\n",
      "2 1 <---> 1 0\n",
      "2 1 <---> 1 1\n",
      "2 1 <---> 1 2\n",
      "/n\n",
      "0 2 <---> 2 0\n",
      "0 2 <---> 2 1\n",
      "0 2 <---> 2 2\n",
      "/n\n",
      "1 2 <---> 2 0\n",
      "1 2 <---> 2 1\n",
      "1 2 <---> 2 2\n",
      "/n\n",
      "2 2 <---> 2 0\n",
      "2 2 <---> 2 1\n",
      "2 2 <---> 2 2\n",
      "/n\n",
      "27\n"
     ]
    }
   ],
   "source": [
    "count=0\n",
    "for k in range(3):\n",
    "    for i in range(3):\n",
    "        for j in range(3):\n",
    "            print(i,k,'<--->',k,j)\n",
    "            count=count+1\n",
    "        print(\"/n\")\n",
    "print(count)"
   ]
  }
 ],
 "metadata": {
  "kernelspec": {
   "display_name": "MLWP",
   "language": "python",
   "name": "mlwp"
  },
  "language_info": {
   "codemirror_mode": {
    "name": "ipython",
    "version": 3
   },
   "file_extension": ".py",
   "mimetype": "text/x-python",
   "name": "python",
   "nbconvert_exporter": "python",
   "pygments_lexer": "ipython3",
   "version": "3.9.7"
  }
 },
 "nbformat": 4,
 "nbformat_minor": 4
}
