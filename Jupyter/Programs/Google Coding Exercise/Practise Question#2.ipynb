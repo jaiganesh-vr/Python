{
 "cells": [
  {
   "cell_type": "markdown",
   "metadata": {},
   "source": [
    "## Google Coding Exercise Question#2"
   ]
  },
  {
   "cell_type": "markdown",
   "metadata": {},
   "source": [
    "There are some processes that need to be executed. Amount of a load that process causes on a server that runs it, is being represented by a single integer. Total load caused on a server is the sum of the loads of all the processes that run on that server. You have at your disposal two servers, on which mentioned processes can be run. Your goal is to distribute given processes between those two servers in the way that, absolute difference of their loads will be minimized.\n",
    "\n",
    "Write a function that, given an array A of N integers, of which represents loads caused by successive processes, the function should return the minimum absolute difference of server loads.\n",
    "\n",
    "For example, given array A such that:\n",
    "  A[0] = 1\n",
    "  A[1] = 2\n",
    "  A[2] = 3\n",
    "  A[3] = 4\n",
    "  A[4] = 5\n",
    "\n",
    "your function should return 1. We can distribute the processes with loads 1, 2, 4 to the first server and 3, 5 to the second one, so that their total loads will be 7 and 8, respectively, and the difference of their loads will be equal to 1.\n",
    "\n",
    "Assume that:\n",
    "N is an integer within the range [1..1,000]\n",
    "the sum of the elements of array A does not exceed 100,000\n",
    "\n",
    "In your solution, focus on correctness. The performance of your solution will not be the focus of the assessment."
   ]
  },
  {
   "cell_type": "code",
   "execution_count": 78,
   "metadata": {},
   "outputs": [
    {
     "name": "stdout",
     "output_type": "stream",
     "text": [
      "[True, False, False, False, False, False, False, False, False, False, False, False, False, False, False, False, False, False, False, False, False, False, False, False, False, False]\n",
      "[True, False, False, False, False, True, False, False, False, False, False, False, False, False, False, False, False, False, False, False, False, False, False, False, False, False]\n",
      "[True, False, False, False, False, True, False, False, False, False, True, False, False, False, False, False, False, False, False, False, False, False, False, False, False, False]\n",
      "[True, False, False, False, False, True, False, False, False, False, True, False, False, False, False, True, False, False, False, False, False, False, False, False, False, False]\n",
      "[True, False, False, False, False, True, False, False, False, False, True, False, False, False, False, True, False, False, False, False, True, False, False, False, False, False]\n",
      "[True, False, False, False, False, True, False, False, False, False, True, False, False, False, False, True, False, False, False, False, True, False, False, False, False, True]\n",
      "Minimum Difference: 5\n"
     ]
    }
   ],
   "source": [
    "set = [5,5,5,5,5]\n",
    "\n",
    "sum = 0 \n",
    "for i in set:\n",
    "    sum = sum + i\n",
    "    \n",
    "n = len(set)\n",
    "\n",
    "subset =([[False for i in range(sum + 1)] for i in range(n + 1)])\n",
    "\n",
    "for i in range(n + 1):\n",
    "    subset[i][0] = True\n",
    "\n",
    "for i in range(1, sum + 1):\n",
    "    subset[0][i]= False\n",
    "\n",
    "for i in range(1, n + 1):\n",
    "    for j in range(1, sum + 1):\n",
    "        if j < set[i-1]:\n",
    "            subset[i][j] = subset[i-1][j]\n",
    "        if j >= set[i-1]:\n",
    "            subset[i][j] = (subset[i-1][j] or subset[i - 1][j-set[i-1]])\n",
    "for i in subset:\n",
    "    print(i)\n",
    "\n",
    "for i in range(sum//2,0,-1):\n",
    "    if subset[n][i] == True:\n",
    "        print('Minimum Difference:', sum - 2 * (i))\n",
    "        break"
   ]
  }
 ],
 "metadata": {
  "kernelspec": {
   "display_name": "Python 3",
   "language": "python",
   "name": "python3"
  },
  "language_info": {
   "codemirror_mode": {
    "name": "ipython",
    "version": 3
   },
   "file_extension": ".py",
   "mimetype": "text/x-python",
   "name": "python",
   "nbconvert_exporter": "python",
   "pygments_lexer": "ipython3",
   "version": "3.8.5"
  }
 },
 "nbformat": 4,
 "nbformat_minor": 4
}
