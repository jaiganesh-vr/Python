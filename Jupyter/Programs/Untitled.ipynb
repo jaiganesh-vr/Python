{
 "cells": [
  {
   "cell_type": "markdown",
   "metadata": {},
   "source": [
    "You are given a string S consisting of N lowercase letters of the English alphabet. Find the length of the longest substring of S in which the number of occurrences of each letter is equal.\n",
    "\n",
    "For example, given S = \"ababbcbc\", substrings in which every letter occurs the same number of times are: \"a\", \"b\", \"c\", \"ab\", \"ba\", \"bb\", \"bc\", \"cb\", \"abab\" and \"bcbc\". The longest among them are \"abab\" and \"bcbc\" and their length equals 4.\n",
    "\n",
    "Write a function:\n",
    "\n",
    "int solution(string &S);\n",
    "\n",
    "that, given the string S of length N, returns the length of the longest substring in which the number of occurrences of each letter is equal.\n",
    "\n",
    "Examples:\n",
    "Given S = \"ababbcbc\", the function should return 4, as explained above.\n",
    "Given S = \"aabcde\", the function should return 5. The longest substring is \"abcde\", in which all letters occur once.\n",
    "Given S = \"aaaa\", the function should return 4. The longest substring is \"aaaa\", in which all letters occur four times.\n",
    "Given S = \"daababbd\", the function should return 6. The longest substring is \"aababb\", in which all letters occur three times.\n",
    "Assume that:\n",
    "N is an integer within the range [1..80];\n",
    "string S consists only of lowercase letters (a-z).\n",
    "In your solution, focus on correctness. The performance of your solution will not be the focus of the assessment."
   ]
  },
  {
   "cell_type": "markdown",
   "metadata": {},
   "source": [
    "Given an integer N, you are asked to divide N into a sum of a maximal number of positive even integers. All the numbers should also be different.\n",
    "For example, for N = 12, the following splits are valid: (2 + 10), (2 + 4 + 6) and (4 + 8). Among them, (2 + 4 + 6) contains the maximal number of integers. Note that N cannot be split into (2 + 2 + 4 + 4) as all the numbers should be different.\n",
    "Write a function:\n",
    "\n",
    "class Solution { public int[] solution(int N); }\n",
    "\n",
    "which, given a positive integer number N, returns an array containing the numbers from any maximal possible answer (any valid combination may be returned). If N cannot be divided in such a way, return an empty array.\n",
    "Result array should be returned as an array of integers.\n",
    "Examples:\n",
    "1. Given N = 6, your function should return [2, 4] or [4, 2].\n",
    "2. Given N = 7, your function should return [] (an empty array) as there is no valid split.\n",
    "3. Given N = 22, your function should return [2, 4, 6, 10] in any order.\n",
    "4. Given N = 4, your function should return [4].\n",
    "Write an efficient algorithm for the following assumptions:\n",
    "\n",
    "N is an integer within the range [1..100,000,000]."
   ]
  },
  {
   "cell_type": "code",
   "execution_count": 81,
   "metadata": {},
   "outputs": [],
   "source": [
    "sum = 12\n",
    "set =[]\n",
    "for i in range(2,sum,2):\n",
    "    set.append(i)\n",
    "        \n",
    "n = len(set)\n",
    "subset =([[False for i in range(sum + 1)] for i in range(n + 1)])\n",
    "\n",
    "for i in range(n + 1):\n",
    "    subset[i][0] = True\n",
    "\n",
    "for i in range(1, sum + 1):\n",
    "    subset[0][i]= False\n",
    "\n",
    "for i in range(1, n + 1):\n",
    "    for j in range(1, sum + 1):\n",
    "        if j < set[i-1]:\n",
    "            subset[i][j] = subset[i-1][j]\n",
    "        if j >= set[i-1]:\n",
    "            subset[i][j] = (subset[i-1][j] or subset[i - 1][j-set[i-1]])\n",
    "\n",
    "\n",
    "array = []\n",
    "if subset[len(set)][sum] == True:\n",
    "    for i in range(1, n + 1):\n",
    "        for j in range(1, sum + 1):\n",
    "            if subset[i - 1][j-set[i-1]]:\n",
    "                array.append(j)\n",
    "else:\n",
    "    print([])"
   ]
  }
 ],
 "metadata": {
  "kernelspec": {
   "display_name": "Python 3",
   "language": "python",
   "name": "python3"
  },
  "language_info": {
   "codemirror_mode": {
    "name": "ipython",
    "version": 3
   },
   "file_extension": ".py",
   "mimetype": "text/x-python",
   "name": "python",
   "nbconvert_exporter": "python",
   "pygments_lexer": "ipython3",
   "version": "3.8.5"
  }
 },
 "nbformat": 4,
 "nbformat_minor": 4
}
